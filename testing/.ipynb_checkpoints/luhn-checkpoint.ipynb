{
 "cells": [
  {
   "cell_type": "markdown",
   "metadata": {
    "collapsed": true
   },
   "source": [
    "Luhn algorithm \n",
    " \n",
    "The Luhn algorithm is also known as the \"modulus 10\" algorithm. It is designed to protect against accidental errors and not malicious attacks. The algorithm is widely used to validate credit card number. The example below shows how the algorithm validates the credit card number 79927398713: \n",
    " \n",
    "1. From the rightmost digit, which is the check digit, and moving left, double the value of every second digit. E.g. 7 9 9 2 7 3 9 8 7 1 3 => 7 18 9 4 7 6 9 16 7 2 3 \n",
    "2. If the result of this doubling operation is greater than 9, add the digits of the result. E.g. 7 18 9 4 7 6 9 16 7 2 3 => 7 9 9 4 7 6 9 7 7 2 3 \n",
    "3. Take the sum of all the digits. E.g. 7 + 9 + 9 + 4 + 7 + 6 + 9 + 7 + 7 + 2 + 3 = 70 \n",
    "4. If the total (from step 3) modulo 10 is equal to 0 (if the total ends in zero) then the number is valid according to the Luhn formula, ese it is not valid. E.g. Since 70 mod 10 = 0, then 79927398713 is considered a valid credit card number. \n",
    " \n",
    "Task 1: Implement the function luhn(credit_num) which takes credit_num as a integer and returns True if the 16 digits credit_num is a valid credit card code, else False. \n",
    "\n",
    "For example: \n",
    "\n",
    "> luhn(4148634548477380) True \n",
    "\n",
    "> luhn(4148634548477385) False"
   ]
  },
  {
   "cell_type": "code",
   "execution_count": null,
   "metadata": {},
   "outputs": [],
   "source": []
  },
  {
   "cell_type": "markdown",
   "metadata": {},
   "source": [
    "Task 2: The file credit_num.txt contains 50 credit card numbers. Use the function luhn(credit_num) to filter all valid credit card numbers in the file credit_num.txt."
   ]
  },
  {
   "cell_type": "code",
   "execution_count": null,
   "metadata": {},
   "outputs": [],
   "source": []
  }
 ],
 "metadata": {
  "kernelspec": {
   "display_name": "Python 3",
   "language": "python",
   "name": "python3"
  },
  "language_info": {
   "codemirror_mode": {
    "name": "ipython",
    "version": 3
   },
   "file_extension": ".py",
   "mimetype": "text/x-python",
   "name": "python",
   "nbconvert_exporter": "python",
   "pygments_lexer": "ipython3",
   "version": "3.7.3"
  }
 },
 "nbformat": 4,
 "nbformat_minor": 2
}
