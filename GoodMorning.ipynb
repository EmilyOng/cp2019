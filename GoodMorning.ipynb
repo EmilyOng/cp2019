{
  "cells": [
    {
      "metadata": {
        "collapsed": true
      },
      "cell_type": "markdown",
      "source": "# Good morning! Here's your coding interview problem for today.\n\n## This problem was asked by Zillow.\n\nLet's define a \"sevenish\" number to be one which is either a power of 7, or the sum of unique powers of 7. The first few sevenish numbers are 1, 7, 8, 49, and so on. Create an algorithm to find the nth sevenish number.\n"
    },
    {
      "metadata": {
        "trusted": true
      },
      "cell_type": "code",
      "source": "def powers_of_7 (num):\n    prev_power = -1\n    pwr = 0\n    if num % 7 != 0:\n        if (num - 1) % 7 == 0:\n            num -= 1\n            prev_power = 0\n        else:\n            return False\n    while True:\n        temp = num\n        pwr = 0\n        if num == 0:\n            return True\n        elif num < 0:\n            return False\n        while True:\n            if temp % 7 != 0:\n                break\n            else:\n                temp //= 7\n                pwr += 1\n        if pwr == prev_power:\n            return False\n        prev_power = pwr\n        num -= 7**pwr\n\ndef solve (n):\n    count = 0\n    num = 1\n    while True:\n        if count == n: # Terminating case\n            print(num - 1)\n            return\n        count += powers_of_7(num)\n        num += 1\n        \n# 1, 7, 49 ...\n\nn = int(input(\"N-th Sevenish number: \"))\nsolve(n)\n\n",
      "execution_count": 4,
      "outputs": [
        {
          "output_type": "stream",
          "name": "stdout",
          "text": "N-th Sevenish number: 4\n49\n"
        }
      ]
    },
    {
      "metadata": {
        "slideshow": {
          "slide_type": "fragment"
        }
      },
      "cell_type": "markdown",
      "source": "# Good morning! Here's your coding interview problem for today.\n\n## This problem was asked by Facebook.\n\nGiven an array of integers in which two elements appear exactly once and all other elements appear exactly twice, find the two elements that appear only once.\n\nFor example, given the array [2, 4, 6, 8, 10, 2, 6, 10], return 4 and 8. The order does not matter.\n\nFollow-up: Can you do this in linear time and constant space?\n"
    },
    {
      "metadata": {
        "trusted": true
      },
      "cell_type": "code",
      "source": "def solve1 (arr):\n    arr.sort() # O(nlogn)\n    count = 0\n    print(arr)\n    for i in range (len(arr)-1):\n        if count == 2:\n            break\n        if arr[i] != arr[i+1]:\n            if i+2 < len(arr):\n                if arr[i+1] != arr[i+2]:\n                    print(arr[i+1], end=\" \")\n                    count += 1\n            else:\n                print(arr[i+1], end=\" \")\n                count += 1\n\nsolve1([2, 4, 6, 8, 10, 2, 6, 10])",
      "execution_count": 29,
      "outputs": [
        {
          "output_type": "stream",
          "text": "[2, 2, 4, 6, 6, 8, 10, 10]\n4 8 \n",
          "name": "stdout"
        }
      ]
    },
    {
      "metadata": {
        "trusted": true
      },
      "cell_type": "markdown",
      "source": "# Good morning! Here's your coding interview problem for today.\n\nGiven a 2-D matrix representing an image, a location of a pixel in the screen and a color C, replace the color of the given pixel and all adjacent same colored pixels with C.\n\nFor example, given the following matrix, and location pixel of (2, 2), and 'G' for green:\n\n```\nB B W\nW W W\nW W W\nB B B\nBecomes\n\nB B G\nG G G\nG G G\nB B B\n```"
    },
    {
      "metadata": {
        "trusted": true
      },
      "cell_type": "code",
      "source": "# Flood-fill\nPIXEL = (2,2)\nCOLOR = 'G'\nMAX_X = 3\nMAX_Y = 4\nMATRIX = [['B','B','W'],\n          ['W','W','W'],\n          ['W','W','W'],\n          ['B','B','B']]\ndx = [0, 0, 1, -1]\ndy = [1, -1, 0, 0]\nCMP = MATRIX[PIXEL[1]-1][PIXEL[0]-1]\n\ndef dfs (x, y):\n    if MATRIX[y][x] == COLOR or MATRIX[y][x] != CMP:return\n    MATRIX[y][x] = COLOR\n    for i in range (4):\n        cx = dx[i]+x\n        cy = dy[i]+y\n        if 0<=cx<MAX_X and 0<=cy<MAX_Y:dfs(cx, cy)\n\n\ndfs(PIXEL[1]-1, PIXEL[0]-1)\nfor i in range (len(MATRIX)):\n    for j in range (len(MATRIX[i])):\n        print(MATRIX[i][j], end=\" \")\n    print()",
      "execution_count": 57,
      "outputs": [
        {
          "output_type": "stream",
          "text": "B B G \nG G G \nG G G \nB B B \n",
          "name": "stdout"
        }
      ]
    },
    {
      "metadata": {},
      "cell_type": "markdown",
      "source": "# Good morning! Here's your coding interview problem for today.\n\n## This problem was asked by Microsoft.\n\nGiven a string and a pattern, find the starting indices of all occurrences of the pattern in the string. For example, given the string \"abracadabra\" and the pattern \"abr\", you should return [0, 7].\n"
    },
    {
      "metadata": {
        "trusted": true
      },
      "cell_type": "code",
      "source": "string = \"abracadabra\"\npattern = \"abr\"\nlength = len(pattern)\nstring_size = len(string)\nindices = []\nfor i in range (string_size):\n    if string[i] == pattern[0]:\n        if i+length < string_size:\n            if string[i:i+length] == pattern:\n                indices.append(i)\n\nprint(indices)",
      "execution_count": 69,
      "outputs": [
        {
          "output_type": "stream",
          "text": "[0, 7]\n",
          "name": "stdout"
        }
      ]
    },
    {
      "metadata": {},
      "cell_type": "markdown",
      "source": "# Good morning! Here's your coding interview problem for today.\n\n## This problem was asked by Uber.\n\nSuppose an array sorted in ascending order is rotated at some pivot unknown to you beforehand. Find the minimum element in O(log N) time. You may assume the array does not contain duplicates.\n\nFor example, given [5, 7, 10, 3, 4], return 3.\n"
    },
    {
      "metadata": {
        "trusted": true
      },
      "cell_type": "code",
      "source": "def solve (arr):\n    left = arr[0]\n    right = arr[-1]\n    low = 0\n    high = len(arr)-1\n    while low <= high:\n        mid = (low + high) // 2\n        if arr[mid] <= left and arr[mid] <= right:\n            print(arr[mid])\n            break\n        elif arr[mid] > right:\n            low = mid + 1\n        else:\n            high = mid - 1\n\nsolve([5, 7, 10, 3, 4])\nsolve([5, 7, 10, 12, 17, 19, 20, 2, 3, 4])\nsolve([2, 3, 4, 5, 7, 10, 12, 17, 19, 20])",
      "execution_count": 75,
      "outputs": [
        {
          "output_type": "stream",
          "text": "3\n2\n2\n",
          "name": "stdout"
        }
      ]
    },
    {
      "metadata": {},
      "cell_type": "markdown",
      "source": "# Good morning! Here's your coding interview problem for today.\n\n## This problem was asked by Facebook.\n\nGiven a string of parentheses, find the balanced string that can be produced from it using the minimum number of insertions and deletions. If there are multiple solutions, return any of them. \n\nFor example, given \"(()\", you could return \"(())\". Given \"))()(\", you could return \"()()()()\".\n"
    },
    {
      "metadata": {
        "trusted": true
      },
      "cell_type": "code",
      "source": "# Need to consider deletions also\n\nclass Node:\n    def __init__ (self, data):\n        self.data = data\n        self.link = None\n        \nclass Stack:\n    def __init__ (self):\n        self.top = None\n        \n    def is_empty (self):\n        return self.top == None\n        \n    def push (self, data):\n        node = Node(data)\n        node.link = self.top\n        self.top = node\n        \n    def pop (self):\n        if self.is_empty():\n            return -1\n        self.top = self.top.link\n        \n    def peek (self):\n        if self.is_empty():\n            return -1\n        return self.top.data\n        \n# brackets = \"))()(\"\nbrackets = \"(()\"\nstack = Stack()\n\nfor bracket in brackets:\n    if bracket == \"(\":\n        stack.push(bracket)\n    else:\n        top = stack.peek()\n        if top == -1:\n            print(\"()\", end=\"\")\n        else:\n            if top == \"(\" and bracket == \")\":\n                stack.pop()\n                print(\"()\", end=\"\")\n            else:\n                print(\"()\", end=\"\")\n                \nif not stack.is_empty():\n    while True:\n        if stack.is_empty():\n            break\n        print(\"()\", end=\"\")\n        stack.pop()",
      "execution_count": 80,
      "outputs": [
        {
          "output_type": "stream",
          "text": "()()",
          "name": "stdout"
        }
      ]
    },
    {
      "metadata": {},
      "cell_type": "markdown",
      "source": "# Good morning! Here's your coding interview problem for today.\n\n## This problem was asked by Google.\n\nYou are given an array of length n + 1 whose elements belong to the set {1, 2, ..., n}. By the pigeonhole principle, there must be a duplicate. Find it in linear time and space.\n"
    },
    {
      "metadata": {
        "trusted": true
      },
      "cell_type": "code",
      "source": "arr = [1, 13, 5, 4, 7, 2, 9, 13]\n\nset_ = set()\nfor elem in arr:\n    prev = len(set_)\n    set_.add(elem)\n    if len(set_) == prev:\n        print(elem)\n        break",
      "execution_count": 41,
      "outputs": [
        {
          "output_type": "stream",
          "text": "13\n",
          "name": "stdout"
        }
      ]
    },
    {
      "metadata": {},
      "cell_type": "markdown",
      "source": "# Good morning! Here's your coding interview problem for today.\n\n## This problem was asked by Slack.\n\nYou are given an N by M matrix of 0s and 1s. Starting from the top left corner, how many ways are there to reach the bottom right corner?\n\nYou can only move right and down. 0 represents an empty space while 1 represents a wall you cannot walk through.\n\nFor example, given the following matrix:\n\n```\n[[0, 0, 1],\n [0, 0, 1],\n [1, 0, 0]]\n ```\n \nReturn two, as there are only two ways to get to the bottom right:\n\n • Right, down, down, right\n • Down, right, down, right\nThe top left corner and bottom right corner will always be 0.\n"
    },
    {
      "metadata": {
        "trusted": true
      },
      "cell_type": "code",
      "source": "# Dynamic programming\n\nMATRIX = [[0, 0, 1],\n         [0, 0, 1],\n         [1, 0, 0]]\n\n\nres = [[0 for i in range (3)] for i in range (3)]\nres[0][1] = int(not(MATRIX[0][1]))\nres[1][0] = int(not(MATRIX[1][0]))\nfor i in range (1,len(MATRIX)):\n    for j in range (1,len(MATRIX[i])):\n        if MATRIX[i][j] == 0:\n            res[i][j] += res[i-1][j] + res[i][j-1]\n\nfor i in range (3):\n    for j in range (3):\n        print(int(res[i][j]), end=\" \")\n    print()\nprint()\n\nprint(res[2][2])",
      "execution_count": 121,
      "outputs": [
        {
          "output_type": "stream",
          "text": "0 1 0 \n1 2 0 \n0 2 2 \n\n2\n",
          "name": "stdout"
        }
      ]
    },
    {
      "metadata": {},
      "cell_type": "markdown",
      "source": "# Good morning! Here's your coding interview problem for today.\n\n## This problem was asked by Amazon.\n\nGiven a string, determine whether any permutation of it is a palindrome.\n\nFor example, carrace should return true, since it can be rearranged to form racecar, which is a palindrome. daily should return false, since there's no rearrangement that can form a palindrome.\n"
    },
    {
      "metadata": {
        "trusted": true
      },
      "cell_type": "code",
      "source": "def palindrome (string):\n    char_count = {}\n    for char in string:\n        if char not in char_count:\n            char_count[char] = 1\n        else:\n            char_count[char] += 1\n\n    size = len(char_count)\n    even = 0\n    odd = 0\n    for char in char_count:\n        if char_count[char] % 2 == 0:\n            even += 1\n        else:\n            odd += 1\n            \n#     print(char_count)\n    if odd == 0 or odd == 1:\n        # aabbcc = abccba or aabbccdd = abcddcba\n        return True\n    else:\n        return False\n            \n    \nstring = \"carrace\"\npalindrome(string)",
      "execution_count": 33,
      "outputs": [
        {
          "output_type": "execute_result",
          "execution_count": 33,
          "data": {
            "text/plain": "True"
          },
          "metadata": {}
        }
      ]
    },
    {
      "metadata": {},
      "cell_type": "markdown",
      "source": "# Good morning! Here's your coding interview problem for today.\n\n## This problem was asked by MongoDB.\n\nGiven a list of elements, find the majority element, which appears more than half the time (> floor(len(lst) / 2.0)).\n\nYou can assume that such element exists.\n\nFor example, given [1, 2, 1, 1, 3, 4, 0], return 1.\n"
    },
    {
      "metadata": {
        "trusted": true
      },
      "cell_type": "code",
      "source": "# from math import floor\n\nlst = [1, 2, 1, 1, 3, 4, 0]\n# print(floor(len(lst)/2.0))\ncounter = {}\nfor elem in lst:\n    if elem not in counter:\n        counter[elem] = 1\n    else:\n        counter[elem] += 1\n\nans = -1\nmaj_elem = 0\n\nfor elem in counter:\n    if counter[elem] > ans:\n        ans = counter[elem]\n        maj_elem = elem\n        \nprint(maj_elem)",
      "execution_count": 2,
      "outputs": [
        {
          "output_type": "stream",
          "text": "1\n",
          "name": "stdout"
        }
      ]
    },
    {
      "metadata": {},
      "cell_type": "markdown",
      "source": "# Good morning! Here's your coding interview problem for today.\n\n## This problem was asked by Apple.\n\nA Collatz sequence in mathematics can be defined as follows. Starting with any positive integer:\n\n • if n is even, the next number in the sequence is n / 2\n \n • if n is odd, the next number in the sequence is 3n + 1\n \nIt is conjectured that every such sequence eventually reaches the number 1. Test this conjecture.\n"
    },
    {
      "metadata": {
        "trusted": true
      },
      "cell_type": "code",
      "source": "# The 3n+1 problem\nN = 10\nwhile True:\n    print(N)\n    if N == 1:break\n    elif N%2 == 0:N//=2\n    else:N=3*N+1\n        \nprint(\"Done\")",
      "execution_count": 4,
      "outputs": [
        {
          "output_type": "stream",
          "text": "10\n5\n16\n8\n4\n2\n1\nDone\n",
          "name": "stdout"
        }
      ]
    },
    {
      "metadata": {},
      "cell_type": "markdown",
      "source": "# Good morning! Here's your coding interview problem for today.\n\n## This problem was asked by LinkedIn.\n\nGiven a linked list of numbers and a pivot k, partition the linked list so that all nodes less than k come before nodes greater than or equal to k. \n\nFor example, given the linked list 5 -> 1 -> 8 -> 0 -> 3 and k = 3, the solution could be 1 -> 0 -> 5 -> 8 -> 3.\n"
    },
    {
      "metadata": {
        "trusted": true
      },
      "cell_type": "code",
      "source": "class Node:\n    def __init__ (self, data):\n        self.data = data\n        self.link = None\n        self.moved = False\n        \n# (lesser than k) (greater than k) k\n\nclass LinkedList:\n    def __init__ (self):\n        self.head = None\n        self.link = None\n        \n    def is_empty (self, data):\n        return self.head == None\n    \n    def insert (self, data):\n        node = Node(data)\n        node.link = self.head\n        self.head = node\n        \n    def display (self):\n        curr = self.head\n        while curr != None:\n            print(curr.data, end=\" -> \")\n            curr = curr.link\n        print()\n        \n    def get_pos (self, data):\n        curr = self.head\n        idx = 0\n        pos = 0\n        while curr != None:\n            if curr.data == data:\n                pos = idx\n            idx += 1\n            curr = curr.link\n        return pos\n    \n#     def get_data_at_pos (self, pos):\n#         curr = self.head\n#         idx = 0\n#         data = None\n#         while curr != None:\n#             if idx == pos:\n#                 data = curr.data\n#                 break\n#             idx += 1\n#             curr = curr.link\n#         return data\n    \n    def insert_at_pos (self, pos, data, moved=False):\n        curr = self.head\n        prev = None\n        idx = 0\n        node = Node(data)\n        node.moved = moved\n        added = False\n        while curr != None:\n            if idx == pos:\n                if prev == None:\n                    node.link = self.head\n                    self.head = node\n                else:\n                    prev.link = node\n                    node.link = curr\n                added = True\n                break\n            prev = curr\n            curr = curr.link\n            idx += 1\n        if not added:\n            prev.link = Node(data)\n            \n    def get_size (self):\n        curr = self.head\n        size = 0\n        while curr != None:\n            size += 1\n            curr = curr.link\n        return size\n\n    def solve (self, k):\n        # Can probably do it in one pass..\n        for i in range (2):\n            curr = self.head\n            prev = None\n            modified = False\n            curr_temp = None\n            prev_temp = None\n            if i == 0:\n                ptr = self.get_size() - 1\n            else:\n                ptr = ptr - count - 1\n            idx = 0\n            count = 0\n            data = 0\n            while curr != None:\n                data = curr.data\n                if ((i == 0 and curr.data == k) or (i == 1 and curr.data > k)) and not curr.moved:\n                    curr.moved = 1\n                    curr_temp = curr.link\n                    prev_temp = prev\n                    modified = True\n                    if prev == None:\n                        self.head = curr.link\n                    else:\n                        prev.link = curr.link\n                if modified:\n                    self.insert_at_pos(ptr, data, True)\n                    if i == 0:\n                        if idx != ptr:\n                            count += 1\n                        if idx > ptr - count:break\n                    prev = prev_temp\n                    curr = curr_temp\n                    modified = False\n                else:\n                    prev = curr\n                    curr = curr.link\n                    \n                idx += 1\n                \n            \n        self.display()\n        \n        \nk = 3\nlinked_list = LinkedList()\n# arr = [3, 0, 8, 1, 5] # ok\n# arr = [3, 3, 0, 8, 3, 1, 5, 2] # ok\narr = [3, 3, 0, 8, 3, 0, 1, 2, 8, 9, 12, 9, 3, 1, 5, 2] # ok\nsize = len(arr)\nfor elem in arr:\n    linked_list.insert(elem)\n    \nprint(\"Initial:\", end=\" \")\nlinked_list.display()\nprint(\"Final:\", end=\" \")\nlinked_list.solve(k)",
      "execution_count": 119,
      "outputs": [
        {
          "output_type": "stream",
          "text": "Initial: 2 -> 5 -> 1 -> 3 -> 9 -> 12 -> 9 -> 8 -> 2 -> 1 -> 0 -> 3 -> 8 -> 0 -> 3 -> 3 -> \nFinal: 2 -> 1 -> 2 -> 1 -> 0 -> 0 -> 5 -> 9 -> 12 -> 9 -> 8 -> 8 -> 3 -> 3 -> 3 -> 3 -> \n",
          "name": "stdout"
        }
      ]
    },
    {
      "metadata": {
        "trusted": true
      },
      "cell_type": "code",
      "source": "",
      "execution_count": null,
      "outputs": []
    }
  ],
  "metadata": {
    "kernelspec": {
      "name": "python36",
      "display_name": "Python 3.6",
      "language": "python"
    },
    "language_info": {
      "mimetype": "text/x-python",
      "nbconvert_exporter": "python",
      "name": "python",
      "pygments_lexer": "ipython3",
      "version": "3.6.6",
      "file_extension": ".py",
      "codemirror_mode": {
        "version": 3,
        "name": "ipython"
      }
    }
  },
  "nbformat": 4,
  "nbformat_minor": 2
}